{
 "cells": [
  {
   "cell_type": "markdown",
   "id": "78e43aa9-f3f0-4d05-ba0a-a315b1dc5621",
   "metadata": {},
   "source": [
    "# Equal-Weight S&P 500 Index Fund\n",
    "\n",
    "The goal of this section of the course is to create a Python script that will accept the value of your portfolio and tell you how many shares of each S&P 500 constituent you should purchase to get an equal-weight version of the index fund.\n",
    "\n",
    "## Library Imports\n",
    "\n",
    "The first thing we need to do is import the open-source software libraries that we'll be using in this tutorial."
   ]
  },
  {
   "cell_type": "code",
   "execution_count": 23,
   "id": "458c5608-62d1-45ca-8359-c00aa245029e",
   "metadata": {},
   "outputs": [],
   "source": [
    "import numpy as np\n",
    "import pandas as pd\n",
    "import requests\n",
    "import xlsxwriter \n",
    "import math"
   ]
  },
  {
   "cell_type": "markdown",
   "id": "764587e7-d341-4206-9a7f-7d9cefab5974",
   "metadata": {},
   "source": [
    "## Importing Our List of Stocks\n",
    "\n",
    "The next thing we need to do is import the constituents of the S&P 500.\n",
    "\n",
    "These constituents change over time, so in an ideal world you would connect directly to the index provider (Standard & Poor's) and pull their real-time constituents on a regular basis.\n",
    "\n",
    "Paying for access to the index provider's API is outside of the scope of this course.\n",
    "\n",
    "There's a static version of the S&P 500 constituents available here. Click this link to download them now. Move this file into the starter-files folder so it can be accessed by other files in that directory."
   ]
  },
  {
   "cell_type": "code",
   "execution_count": 24,
   "id": "ab0aef4e-0649-4034-9664-6aee136743a0",
   "metadata": {},
   "outputs": [],
   "source": [
    "stocks = pd.read_csv('sp_500_stocks.csv')\n",
    "stocks = stocks[~stocks['Ticker'].isin(['DISCA', 'HFC','VIAC','WLTW'])]"
   ]
  },
  {
   "cell_type": "markdown",
   "id": "cde396a1-3e9e-40e4-8758-1417a95789fa",
   "metadata": {},
   "source": [
    "## Acquiring an API Token\n",
    "\n",
    "Now it's time to import our IEX Cloud API token. This is the data provider that we will be using throughout this course.\n",
    "\n",
    "API tokens (and other sensitive information) should be stored in a secrets.py file that doesn't get pushed to your local Git repository. We'll be using a sandbox API token in this course, which means that the data we'll use is randomly-generated and (more importantly) has no cost associated with it.\n",
    "\n",
    "Move the file into the same directory as this Jupyter Notebook before proceeding."
   ]
  },
  {
   "cell_type": "code",
   "execution_count": 25,
   "id": "313ff06a-dcc7-44bf-93b0-704d44fe3f2c",
   "metadata": {},
   "outputs": [],
   "source": [
    "from secrets import IEX_CLOUD_API_TOKEN"
   ]
  },
  {
   "cell_type": "markdown",
   "id": "d8ac622a-cc63-4b6b-9f6f-53b1ebfa296b",
   "metadata": {},
   "source": [
    "## Making Our First API Call\n",
    "Now it's time to structure our API calls to IEX cloud.\n",
    "\n",
    "We need the following information from the API:\n",
    "\n",
    "Market capitalization for each stock\n",
    "\n",
    "Price of each stock"
   ]
  },
  {
   "cell_type": "code",
   "execution_count": 26,
   "id": "282e82e4-c6c0-4b2d-81f2-ec3b19eaf8f5",
   "metadata": {},
   "outputs": [
    {
     "name": "stdout",
     "output_type": "stream",
     "text": [
      "{'avgTotalVolume': 94368359, 'calculationPrice': 'close', 'change': 2.96, 'changePercent': 0.02015, 'close': 155, 'closeSource': 'lfiiaofc', 'closeTime': 1708988704573, 'companyName': 'Apple Inc', 'currency': 'USD', 'delayedPrice': 152.332, 'delayedPriceTime': 1734421913054, 'extendedChange': -0.29, 'extendedChangePercent': -0.00196, 'extendedPrice': 153.01, 'extendedPriceTime': 1711307352713, 'high': 155.54, 'highSource': 'eni1 lety ddriame pcu5e', 'highTime': 1682364674455, 'iexAskPrice': None, 'iexAskSize': None, 'iexBidPrice': None, 'iexBidSize': None, 'iexClose': 154.16, 'iexCloseTime': 1748829116533, 'iexLastUpdated': None, 'iexMarketPercent': None, 'iexOpen': 146.06, 'iexOpenTime': 1732067100559, 'iexRealtimePrice': None, 'iexRealtimeSize': None, 'iexVolume': None, 'lastTradeTime': 1749001472182, 'latestPrice': 152.7, 'latestSource': 'Close', 'latestTime': 'November 11, 2022', 'latestUpdate': 1746882489830, 'latestVolume': 95554706, 'low': 150.64, 'lowSource': 'ec ruln1d eeytidpeim a5', 'lowTime': 1733838956929, 'marketCap': 2443653601559, 'oddLotDelayedPrice': 152.23, 'oddLotDelayedPriceTime': 1694594990775, 'open': 150.64, 'openTime': 1736292276957, 'openSource': 'ffioliac', 'peRatio': 24.6, 'previousClose': 153.88, 'previousVolume': 119604995, 'primaryExchange': 'QNSAAD', 'symbol': 'AAPL', 'volume': 95103774, 'week52High': 189.7, 'week52Low': 131.4, 'ytdChange': -0.13331969972841318, 'isUSMarketOpen': False}\n"
     ]
    }
   ],
   "source": [
    "symbol = 'AAPL'                                              #add appendage at the end of url that passes in API token to get permission of access       \n",
    "api_url = f'https://sandbox.iexapis.com/stable/stock/{symbol}/quote?token={IEX_CLOUD_API_TOKEN}'        #use f-string to stich a variable into a url\n",
    "data = requests.get(api_url).json()\n",
    "print(data)"
   ]
  },
  {
   "cell_type": "markdown",
   "id": "50e81661-0116-4398-8e3e-4e60fa196f77",
   "metadata": {},
   "source": [
    "## Parsing Our API Call\n",
    "\n",
    "The API call that we executed in the last code block contains all of the information required to build our equal-weight S&P 500 strategy.\n",
    "\n",
    "With that said, the data isn't in a proper format yet. We need to parse it first."
   ]
  },
  {
   "cell_type": "code",
   "execution_count": 27,
   "id": "e559a82c-76cd-43c6-abec-e23452c99503",
   "metadata": {},
   "outputs": [
    {
     "name": "stdout",
     "output_type": "stream",
     "text": [
      "152.7 2.443653601559\n"
     ]
    }
   ],
   "source": [
    "price = data['latestPrice']\n",
    "market_cap = data['marketCap']\n",
    "print(price,market_cap/1e12) #divide the market cap by a trillion"
   ]
  },
  {
   "cell_type": "markdown",
   "id": "24321951-fd78-4a9e-9cbe-527c8fb20095",
   "metadata": {},
   "source": [
    "## Adding Our Stocks Data to a Pandas DataFrame\n",
    "\n",
    "The next thing we need to do is add our stock's price and market capitalization to a pandas DataFrame. Think of a DataFrame like the Python version of a spreadsheet. It stores tabular data."
   ]
  },
  {
   "cell_type": "code",
   "execution_count": 28,
   "id": "9a3725ff-05c9-45bb-8e89-e25a3699aed4",
   "metadata": {},
   "outputs": [
    {
     "data": {
      "text/html": [
       "<div>\n",
       "<style scoped>\n",
       "    .dataframe tbody tr th:only-of-type {\n",
       "        vertical-align: middle;\n",
       "    }\n",
       "\n",
       "    .dataframe tbody tr th {\n",
       "        vertical-align: top;\n",
       "    }\n",
       "\n",
       "    .dataframe thead th {\n",
       "        text-align: right;\n",
       "    }\n",
       "</style>\n",
       "<table border=\"1\" class=\"dataframe\">\n",
       "  <thead>\n",
       "    <tr style=\"text-align: right;\">\n",
       "      <th></th>\n",
       "      <th>Ticker</th>\n",
       "      <th>Stock Price</th>\n",
       "      <th>Market Capitalization</th>\n",
       "      <th>Number of Shares to Buy</th>\n",
       "    </tr>\n",
       "  </thead>\n",
       "  <tbody>\n",
       "  </tbody>\n",
       "</table>\n",
       "</div>"
      ],
      "text/plain": [
       "Empty DataFrame\n",
       "Columns: [Ticker, Stock Price, Market Capitalization, Number of Shares to Buy]\n",
       "Index: []"
      ]
     },
     "execution_count": 28,
     "metadata": {},
     "output_type": "execute_result"
    }
   ],
   "source": [
    "my_columns = ['Ticker', 'Stock Price', 'Market Capitalization', 'Number of Shares to Buy']\n",
    "final_dataframe = pd.DataFrame(columns = my_columns)\n",
    "final_dataframe"
   ]
  },
  {
   "cell_type": "code",
   "execution_count": 29,
   "id": "6ac3846d-3dde-4f1d-88a4-46540160c028",
   "metadata": {},
   "outputs": [
    {
     "data": {
      "text/html": [
       "<div>\n",
       "<style scoped>\n",
       "    .dataframe tbody tr th:only-of-type {\n",
       "        vertical-align: middle;\n",
       "    }\n",
       "\n",
       "    .dataframe tbody tr th {\n",
       "        vertical-align: top;\n",
       "    }\n",
       "\n",
       "    .dataframe thead th {\n",
       "        text-align: right;\n",
       "    }\n",
       "</style>\n",
       "<table border=\"1\" class=\"dataframe\">\n",
       "  <thead>\n",
       "    <tr style=\"text-align: right;\">\n",
       "      <th></th>\n",
       "      <th>Ticker</th>\n",
       "      <th>Stock Price</th>\n",
       "      <th>Market Capitalization</th>\n",
       "      <th>Number of Shares to Buy</th>\n",
       "    </tr>\n",
       "  </thead>\n",
       "  <tbody>\n",
       "    <tr>\n",
       "      <th>0</th>\n",
       "      <td>AAPL</td>\n",
       "      <td>152.7</td>\n",
       "      <td>2443653601559</td>\n",
       "      <td>N/A</td>\n",
       "    </tr>\n",
       "  </tbody>\n",
       "</table>\n",
       "</div>"
      ],
      "text/plain": [
       "  Ticker  Stock Price Market Capitalization Number of Shares to Buy\n",
       "0   AAPL        152.7         2443653601559                     N/A"
      ]
     },
     "execution_count": 29,
     "metadata": {},
     "output_type": "execute_result"
    }
   ],
   "source": [
    "final_dataframe.append(\n",
    "    pd.Series(\n",
    "    [\n",
    "        symbol,\n",
    "        price,\n",
    "        market_cap,\n",
    "        'N/A'\n",
    "    ],\n",
    "    index = my_columns\n",
    "    ),\n",
    "    ignore_index=True\n",
    ")"
   ]
  },
  {
   "cell_type": "markdown",
   "id": "c0c3d29c-cfe0-445b-ba44-27912fcd41ea",
   "metadata": {},
   "source": [
    "## Looping Through The Tickers in Our List of Stocks\n",
    "\n",
    "Using the same logic that we outlined above, we can pull data for all S&P 500 stocks and store their data in the DataFrame using a for loop."
   ]
  },
  {
   "cell_type": "code",
   "execution_count": 30,
   "id": "8808af7e-91dc-4f51-8403-3588a4bf8d79",
   "metadata": {},
   "outputs": [],
   "source": [
    "final_dataframe = pd.DataFrame(columns = my_columns)\n",
    "for stock in stocks['Ticker'][:5]:\n",
    "    api_url = f'https://sandbox.iexapis.com/stable/stock/{stock}/quote?token={IEX_CLOUD_API_TOKEN}'\n",
    "    data = requests.get(api_url).json()\n",
    "    final_dataframe = final_dataframe.append(\n",
    "        pd.Series(\n",
    "        [\n",
    "            stock,\n",
    "            data['latestPrice'],\n",
    "            data['marketCap'],\n",
    "            'N/A'\n",
    "        ],\n",
    "        index = my_columns\n",
    "        ),\n",
    "    ignore_index=True \n",
    "    ) #calling it manually from API for huge amount of data is a very slow process, hence we need to use a batch API calls in next section"
   ]
  },
  {
   "cell_type": "code",
   "execution_count": 31,
   "id": "2b2f852d-e5f0-40b7-ac47-6db6a81c6560",
   "metadata": {},
   "outputs": [
    {
     "data": {
      "text/html": [
       "<div>\n",
       "<style scoped>\n",
       "    .dataframe tbody tr th:only-of-type {\n",
       "        vertical-align: middle;\n",
       "    }\n",
       "\n",
       "    .dataframe tbody tr th {\n",
       "        vertical-align: top;\n",
       "    }\n",
       "\n",
       "    .dataframe thead th {\n",
       "        text-align: right;\n",
       "    }\n",
       "</style>\n",
       "<table border=\"1\" class=\"dataframe\">\n",
       "  <thead>\n",
       "    <tr style=\"text-align: right;\">\n",
       "      <th></th>\n",
       "      <th>Ticker</th>\n",
       "      <th>Stock Price</th>\n",
       "      <th>Market Capitalization</th>\n",
       "      <th>Number of Shares to Buy</th>\n",
       "    </tr>\n",
       "  </thead>\n",
       "  <tbody>\n",
       "    <tr>\n",
       "      <th>0</th>\n",
       "      <td>A</td>\n",
       "      <td>149.03</td>\n",
       "      <td>45216795910</td>\n",
       "      <td>N/A</td>\n",
       "    </tr>\n",
       "    <tr>\n",
       "      <th>1</th>\n",
       "      <td>AAL</td>\n",
       "      <td>15.57</td>\n",
       "      <td>9785166874</td>\n",
       "      <td>N/A</td>\n",
       "    </tr>\n",
       "    <tr>\n",
       "      <th>2</th>\n",
       "      <td>AAP</td>\n",
       "      <td>186.49</td>\n",
       "      <td>11243764220</td>\n",
       "      <td>N/A</td>\n",
       "    </tr>\n",
       "    <tr>\n",
       "      <th>3</th>\n",
       "      <td>AAPL</td>\n",
       "      <td>156.70</td>\n",
       "      <td>2417215682489</td>\n",
       "      <td>N/A</td>\n",
       "    </tr>\n",
       "    <tr>\n",
       "      <th>4</th>\n",
       "      <td>ABBV</td>\n",
       "      <td>156.36</td>\n",
       "      <td>278518195567</td>\n",
       "      <td>N/A</td>\n",
       "    </tr>\n",
       "  </tbody>\n",
       "</table>\n",
       "</div>"
      ],
      "text/plain": [
       "  Ticker  Stock Price Market Capitalization Number of Shares to Buy\n",
       "0      A       149.03           45216795910                     N/A\n",
       "1    AAL        15.57            9785166874                     N/A\n",
       "2    AAP       186.49           11243764220                     N/A\n",
       "3   AAPL       156.70         2417215682489                     N/A\n",
       "4   ABBV       156.36          278518195567                     N/A"
      ]
     },
     "execution_count": 31,
     "metadata": {},
     "output_type": "execute_result"
    }
   ],
   "source": [
    "final_dataframe"
   ]
  },
  {
   "cell_type": "markdown",
   "id": "d07b47db-e804-4341-94d8-bc3bab9f24e9",
   "metadata": {},
   "source": [
    "## Using Batch API Calls to Improve Performance\n",
    "\n",
    "Batch API calls are one of the easiest ways to improve the performance of your code.\n",
    "\n",
    "This is because HTTP requests are typically one of the slowest components of a script.\n",
    "\n",
    "Also, API providers will often give you discounted rates for using batch API calls since they are easier for the API provider to respond to.\n",
    "\n",
    "IEX Cloud limits their batch API calls to 100 tickers per request. Still, this reduces the number of API calls we'll make in this section from 500 to 5 - huge improvement! In this section, we'll split our list of stocks into groups of 100 and then make a batch API call for each group.\n",
    "\n",
    " "
   ]
  },
  {
   "cell_type": "code",
   "execution_count": 32,
   "id": "3656f16f-f390-44da-9a58-9e8ecb94bb37",
   "metadata": {},
   "outputs": [],
   "source": [
    "def chunks(lst, n):\n",
    "    \"\"\"Yield successive n-sized chunks from lst.\"\"\"\n",
    "    for i in range(0, len(lst), n):\n",
    "        yield lst[i:i + n]"
   ]
  },
  {
   "cell_type": "code",
   "execution_count": 33,
   "id": "8bfcabf4-897e-46da-89ac-240f9b259f4c",
   "metadata": {},
   "outputs": [
    {
     "data": {
      "text/html": [
       "<div>\n",
       "<style scoped>\n",
       "    .dataframe tbody tr th:only-of-type {\n",
       "        vertical-align: middle;\n",
       "    }\n",
       "\n",
       "    .dataframe tbody tr th {\n",
       "        vertical-align: top;\n",
       "    }\n",
       "\n",
       "    .dataframe thead th {\n",
       "        text-align: right;\n",
       "    }\n",
       "</style>\n",
       "<table border=\"1\" class=\"dataframe\">\n",
       "  <thead>\n",
       "    <tr style=\"text-align: right;\">\n",
       "      <th></th>\n",
       "      <th>Ticker</th>\n",
       "      <th>Stock Price</th>\n",
       "      <th>Market Capitalization</th>\n",
       "      <th>Number of Shares to Buy</th>\n",
       "    </tr>\n",
       "  </thead>\n",
       "  <tbody>\n",
       "    <tr>\n",
       "      <th>0</th>\n",
       "      <td>A</td>\n",
       "      <td>149.99</td>\n",
       "      <td>45014133701</td>\n",
       "      <td>N/A</td>\n",
       "    </tr>\n",
       "    <tr>\n",
       "      <th>1</th>\n",
       "      <td>AAL</td>\n",
       "      <td>15.58</td>\n",
       "      <td>9892179367</td>\n",
       "      <td>N/A</td>\n",
       "    </tr>\n",
       "    <tr>\n",
       "      <th>2</th>\n",
       "      <td>AAP</td>\n",
       "      <td>192.57</td>\n",
       "      <td>11299013964</td>\n",
       "      <td>N/A</td>\n",
       "    </tr>\n",
       "    <tr>\n",
       "      <th>3</th>\n",
       "      <td>AAPL</td>\n",
       "      <td>152.40</td>\n",
       "      <td>2391912501586</td>\n",
       "      <td>N/A</td>\n",
       "    </tr>\n",
       "    <tr>\n",
       "      <th>4</th>\n",
       "      <td>ABBV</td>\n",
       "      <td>155.88</td>\n",
       "      <td>277119345887</td>\n",
       "      <td>N/A</td>\n",
       "    </tr>\n",
       "    <tr>\n",
       "      <th>...</th>\n",
       "      <td>...</td>\n",
       "      <td>...</td>\n",
       "      <td>...</td>\n",
       "      <td>...</td>\n",
       "    </tr>\n",
       "    <tr>\n",
       "      <th>496</th>\n",
       "      <td>YUM</td>\n",
       "      <td>126.96</td>\n",
       "      <td>35130614242</td>\n",
       "      <td>N/A</td>\n",
       "    </tr>\n",
       "    <tr>\n",
       "      <th>497</th>\n",
       "      <td>ZBH</td>\n",
       "      <td>116.02</td>\n",
       "      <td>24860198070</td>\n",
       "      <td>N/A</td>\n",
       "    </tr>\n",
       "    <tr>\n",
       "      <th>498</th>\n",
       "      <td>ZBRA</td>\n",
       "      <td>264.87</td>\n",
       "      <td>14008444408</td>\n",
       "      <td>N/A</td>\n",
       "    </tr>\n",
       "    <tr>\n",
       "      <th>499</th>\n",
       "      <td>ZION</td>\n",
       "      <td>56.37</td>\n",
       "      <td>8566936657</td>\n",
       "      <td>N/A</td>\n",
       "    </tr>\n",
       "    <tr>\n",
       "      <th>500</th>\n",
       "      <td>ZTS</td>\n",
       "      <td>149.54</td>\n",
       "      <td>72062759130</td>\n",
       "      <td>N/A</td>\n",
       "    </tr>\n",
       "  </tbody>\n",
       "</table>\n",
       "<p>501 rows × 4 columns</p>\n",
       "</div>"
      ],
      "text/plain": [
       "    Ticker  Stock Price Market Capitalization Number of Shares to Buy\n",
       "0        A       149.99           45014133701                     N/A\n",
       "1      AAL        15.58            9892179367                     N/A\n",
       "2      AAP       192.57           11299013964                     N/A\n",
       "3     AAPL       152.40         2391912501586                     N/A\n",
       "4     ABBV       155.88          277119345887                     N/A\n",
       "..     ...          ...                   ...                     ...\n",
       "496    YUM       126.96           35130614242                     N/A\n",
       "497    ZBH       116.02           24860198070                     N/A\n",
       "498   ZBRA       264.87           14008444408                     N/A\n",
       "499   ZION        56.37            8566936657                     N/A\n",
       "500    ZTS       149.54           72062759130                     N/A\n",
       "\n",
       "[501 rows x 4 columns]"
      ]
     },
     "execution_count": 33,
     "metadata": {},
     "output_type": "execute_result"
    }
   ],
   "source": [
    "symbol_groups = list(chunks(stocks['Ticker'], 100))\n",
    "symbol_strings = []\n",
    "for i in range(0, len(symbol_groups)):\n",
    "    symbol_strings.append(','.join(symbol_groups[i]))\n",
    "#    print(symbol_strings[i])\n",
    "final_dataframe = pd.DataFrame(columns = my_columns)\n",
    "\n",
    "for symbol_string in symbol_strings:\n",
    "    batch_api_call_url = f'https://sandbox.iexapis.com/stable/stock/market/batch?symbols={symbol_string}&types=quote&token={IEX_CLOUD_API_TOKEN}'\n",
    "    data = requests.get(batch_api_call_url).json()\n",
    "    for symbol in symbol_string.split(','):\n",
    "        final_dataframe = final_dataframe.append(\n",
    "            pd.Series(\n",
    "            [\n",
    "                symbol,\n",
    "                data[symbol]['quote']['latestPrice'],\n",
    "                data[symbol]['quote']['marketCap'],\n",
    "                'N/A'\n",
    "            ],\n",
    "            index = my_columns\n",
    "            ),\n",
    "            ignore_index=True\n",
    "        )\n",
    "final_dataframe"
   ]
  },
  {
   "cell_type": "markdown",
   "id": "29cbfb74-a954-4be4-aeb7-db701c0849a6",
   "metadata": {},
   "source": [
    "## Calculating the Number of Shares to Buy\n",
    "\n",
    "As you can see in the DataFrame above, we stil haven't calculated the number of shares of each stock to buy.\n",
    "\n",
    "We'll do that next."
   ]
  },
  {
   "cell_type": "code",
   "execution_count": 34,
   "id": "d79eb444-527d-4ba5-850b-8c2147af09e3",
   "metadata": {},
   "outputs": [
    {
     "name": "stdin",
     "output_type": "stream",
     "text": [
      "Enter the value of your portfolio: 1000000\n"
     ]
    }
   ],
   "source": [
    "portfolio_size = input('Enter the value of your portfolio:')\n",
    "\n",
    "try:\n",
    "    val = float(portfolio_size)\n",
    "except ValueError:\n",
    "    print('that is not a number!')\n",
    "    print('Please try again')\n",
    "    portfolio_size = input('Enter the value of your portfolio:')\n",
    "    val = float(portfolio_size)"
   ]
  },
  {
   "cell_type": "code",
   "execution_count": 35,
   "id": "c656b896-a785-4409-945b-cd901efe6835",
   "metadata": {},
   "outputs": [
    {
     "data": {
      "text/html": [
       "<div>\n",
       "<style scoped>\n",
       "    .dataframe tbody tr th:only-of-type {\n",
       "        vertical-align: middle;\n",
       "    }\n",
       "\n",
       "    .dataframe tbody tr th {\n",
       "        vertical-align: top;\n",
       "    }\n",
       "\n",
       "    .dataframe thead th {\n",
       "        text-align: right;\n",
       "    }\n",
       "</style>\n",
       "<table border=\"1\" class=\"dataframe\">\n",
       "  <thead>\n",
       "    <tr style=\"text-align: right;\">\n",
       "      <th></th>\n",
       "      <th>Ticker</th>\n",
       "      <th>Stock Price</th>\n",
       "      <th>Market Capitalization</th>\n",
       "      <th>Number of Shares to Buy</th>\n",
       "    </tr>\n",
       "  </thead>\n",
       "  <tbody>\n",
       "    <tr>\n",
       "      <th>0</th>\n",
       "      <td>A</td>\n",
       "      <td>149.99</td>\n",
       "      <td>45014133701</td>\n",
       "      <td>13</td>\n",
       "    </tr>\n",
       "    <tr>\n",
       "      <th>1</th>\n",
       "      <td>AAL</td>\n",
       "      <td>15.58</td>\n",
       "      <td>9892179367</td>\n",
       "      <td>128</td>\n",
       "    </tr>\n",
       "    <tr>\n",
       "      <th>2</th>\n",
       "      <td>AAP</td>\n",
       "      <td>192.57</td>\n",
       "      <td>11299013964</td>\n",
       "      <td>10</td>\n",
       "    </tr>\n",
       "    <tr>\n",
       "      <th>3</th>\n",
       "      <td>AAPL</td>\n",
       "      <td>152.40</td>\n",
       "      <td>2391912501586</td>\n",
       "      <td>13</td>\n",
       "    </tr>\n",
       "    <tr>\n",
       "      <th>4</th>\n",
       "      <td>ABBV</td>\n",
       "      <td>155.88</td>\n",
       "      <td>277119345887</td>\n",
       "      <td>12</td>\n",
       "    </tr>\n",
       "    <tr>\n",
       "      <th>...</th>\n",
       "      <td>...</td>\n",
       "      <td>...</td>\n",
       "      <td>...</td>\n",
       "      <td>...</td>\n",
       "    </tr>\n",
       "    <tr>\n",
       "      <th>496</th>\n",
       "      <td>YUM</td>\n",
       "      <td>126.96</td>\n",
       "      <td>35130614242</td>\n",
       "      <td>15</td>\n",
       "    </tr>\n",
       "    <tr>\n",
       "      <th>497</th>\n",
       "      <td>ZBH</td>\n",
       "      <td>116.02</td>\n",
       "      <td>24860198070</td>\n",
       "      <td>17</td>\n",
       "    </tr>\n",
       "    <tr>\n",
       "      <th>498</th>\n",
       "      <td>ZBRA</td>\n",
       "      <td>264.87</td>\n",
       "      <td>14008444408</td>\n",
       "      <td>7</td>\n",
       "    </tr>\n",
       "    <tr>\n",
       "      <th>499</th>\n",
       "      <td>ZION</td>\n",
       "      <td>56.37</td>\n",
       "      <td>8566936657</td>\n",
       "      <td>35</td>\n",
       "    </tr>\n",
       "    <tr>\n",
       "      <th>500</th>\n",
       "      <td>ZTS</td>\n",
       "      <td>149.54</td>\n",
       "      <td>72062759130</td>\n",
       "      <td>13</td>\n",
       "    </tr>\n",
       "  </tbody>\n",
       "</table>\n",
       "<p>501 rows × 4 columns</p>\n",
       "</div>"
      ],
      "text/plain": [
       "    Ticker  Stock Price Market Capitalization Number of Shares to Buy\n",
       "0        A       149.99           45014133701                      13\n",
       "1      AAL        15.58            9892179367                     128\n",
       "2      AAP       192.57           11299013964                      10\n",
       "3     AAPL       152.40         2391912501586                      13\n",
       "4     ABBV       155.88          277119345887                      12\n",
       "..     ...          ...                   ...                     ...\n",
       "496    YUM       126.96           35130614242                      15\n",
       "497    ZBH       116.02           24860198070                      17\n",
       "498   ZBRA       264.87           14008444408                       7\n",
       "499   ZION        56.37            8566936657                      35\n",
       "500    ZTS       149.54           72062759130                      13\n",
       "\n",
       "[501 rows x 4 columns]"
      ]
     },
     "execution_count": 35,
     "metadata": {},
     "output_type": "execute_result"
    }
   ],
   "source": [
    "position_size = val/len(final_dataframe.index)\n",
    "for i in range(0,len(final_dataframe.index)):\n",
    "    final_dataframe.loc[i, 'Number of Shares to Buy'] = math.floor(position_size/ final_dataframe.loc[i, 'Stock Price'])\n",
    "    \n",
    "final_dataframe"
   ]
  },
  {
   "cell_type": "markdown",
   "id": "76819933-a514-4a38-af8a-ce45de3b8b27",
   "metadata": {},
   "source": [
    "## Formatting Our Excel Output\n",
    "\n",
    "We will be using the XlsxWriter library for Python to create nicely-formatted Excel files.\n",
    "\n",
    "XlsxWriter is an excellent package and offers tons of customization. However, the tradeoff for this is that the library can seem very complicated to new users. Accordingly, this section will be fairly long because I want to do a good job of explaining how XlsxWriter works.\n",
    "\n",
    "### Initializing our XlsxWriter Object"
   ]
  },
  {
   "cell_type": "code",
   "execution_count": 36,
   "id": "eae04e8d-85bc-4bc0-a0f7-f028df855903",
   "metadata": {},
   "outputs": [],
   "source": [
    "writer = pd.ExcelWriter('recommended_trades.xlsx', engine = 'xlsxwriter')\n",
    "final_dataframe.to_excel(writer, 'Recommended Trades', index = False)"
   ]
  },
  {
   "cell_type": "markdown",
   "id": "ee98cf8f-fbcb-47eb-a39f-208a8b57d947",
   "metadata": {},
   "source": [
    "### Creating the Formats We'll Need For Our .xlsx File\n",
    "\n",
    "Formats include colors, fonts, and also symbols like % and $. We'll need four main formats for our Excel document:\n",
    "\n",
    "String format for tickers\n",
    "\n",
    "$XX.XX format for stock prices\n",
    "\n",
    "$XX,XXX format for market capitalization\n",
    "\n",
    "Integer format for the number of shares to purchase"
   ]
  },
  {
   "cell_type": "code",
   "execution_count": 37,
   "id": "c45ac275-6f14-49c5-aacb-896dbcfbfe58",
   "metadata": {},
   "outputs": [],
   "source": [
    "background_color = '#0a0a23'\n",
    "font_color = '#ffffff'\n",
    "\n",
    "string_format = writer.book.add_format(\n",
    "    {\n",
    "        'font_color' : font_color,\n",
    "        'bg_color' : background_color,       \n",
    "        'border' : 1\n",
    "    }\n",
    ")\n",
    "\n",
    "dollar_format = writer.book.add_format(\n",
    "    {\n",
    "        'num_format' : '$0.00',\n",
    "        'font_color' : font_color,\n",
    "        'bg_color' : background_color,       \n",
    "        'border' : 1\n",
    "    }\n",
    ")\n",
    "\n",
    "integer_format = writer.book.add_format(\n",
    "    {\n",
    "        'num_format' : '0',\n",
    "        'font_color' : font_color,\n",
    "        'bg_color' : background_color,       \n",
    "        'border' : 1\n",
    "    }\n",
    ")"
   ]
  },
  {
   "cell_type": "markdown",
   "id": "b65dd4a0-0933-4394-8d0f-2d88aeb4d4ba",
   "metadata": {},
   "source": [
    "### Applying the Formats to the Columns of Our .xlsx File\n",
    "\n",
    "We can use the set_column method applied to the writer.sheets['Recommended Trades'] object to apply formats to specific columns of our spreadsheets.\n",
    "\n",
    "Here's an example:\n",
    "\n",
    "writer.sheets['Recommended Trades'].set_column('B:B', #This tells the method to apply the format to column B\n",
    "\n",
    "18, #This tells the method to apply a column width of 18 pixels\n",
    "                     \n",
    "string_template #This applies the format 'string_template' to the column)"
   ]
  },
  {
   "cell_type": "code",
   "execution_count": 38,
   "id": "3fb84c73-1eb9-4983-bd21-04719b8390b1",
   "metadata": {},
   "outputs": [],
   "source": [
    "#writer.sheets['Recommended Trades'].set_column('A:A', 18, string_format) #these doesn't affect the column header formatting\n",
    "#writer.sheets['Recommended Trades'].set_column('B:B', 18, string_format)\n",
    "#writer.sheets['Recommended Trades'].set_column('C:C', 18, string_format)\n",
    "#writer.sheets['Recommended Trades'].set_column('D:D', 18, string_format)\n",
    "#writer.save()\n",
    "\n",
    "#writer.sheets['Recommended Trades'].write('A1', 'Ticker', string_format) #these are all column formatting for column header\n",
    "#writer.sheets['Recommended Trades'].write('B1', 'Stock Price', dollar_format)\n",
    "#writer.sheets['Recommended Trades'].write('C1', 'Market Capitalization', dollar_format)\n",
    "#writer.sheets['Recommended Trades'].write('D1', 'Number of Shares to Buy', integer_format)"
   ]
  },
  {
   "cell_type": "markdown",
   "id": "38f32afa-20f2-44d2-af73-772c1031d57d",
   "metadata": {},
   "source": [
    "This code works, but it violates the software principle of \"Don't Repeat Yourself\".\n",
    "\n",
    "Let's simplify this by putting it in 2 loops:"
   ]
  },
  {
   "cell_type": "code",
   "execution_count": 39,
   "id": "03baf79f-7a6a-4592-a5ad-9303ba146f78",
   "metadata": {},
   "outputs": [],
   "source": [
    "column_format = {\n",
    "    'A' : ['Ticker', string_format],\n",
    "    'B' : ['Stock_Price', dollar_format],\n",
    "    'C' : ['Market Capitalization', dollar_format],\n",
    "    'D' : ['Number of Shares to Buy', integer_format]\n",
    "}\n",
    "\n",
    "for column in column_format.keys():\n",
    "    writer.sheets['Recommended Trades'].set_column(f'{column}:{column}', 18, column_format[column][1]) #formatting everything below header\n",
    "    writer.sheets['Recommended Trades'].write(f'{column}1', column_format[column][0], column_format[column][1]) #formatting column header"
   ]
  },
  {
   "cell_type": "markdown",
   "id": "02ef7c06-72c8-4217-9b11-9c95a53321a1",
   "metadata": {},
   "source": [
    "### Saving Our Excel Output\n",
    "\n",
    "Saving our Excel file is very easy:"
   ]
  },
  {
   "cell_type": "code",
   "execution_count": 40,
   "id": "f911cc1c-a978-4f8c-a10f-79e41b95a75f",
   "metadata": {},
   "outputs": [],
   "source": [
    "writer.save()"
   ]
  }
 ],
 "metadata": {
  "kernelspec": {
   "display_name": "Python 3 (ipykernel)",
   "language": "python",
   "name": "python3"
  },
  "language_info": {
   "codemirror_mode": {
    "name": "ipython",
    "version": 3
   },
   "file_extension": ".py",
   "mimetype": "text/x-python",
   "name": "python",
   "nbconvert_exporter": "python",
   "pygments_lexer": "ipython3",
   "version": "3.9.7"
  }
 },
 "nbformat": 4,
 "nbformat_minor": 5
}
